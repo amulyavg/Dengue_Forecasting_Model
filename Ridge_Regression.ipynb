{
  "nbformat": 4,
  "nbformat_minor": 0,
  "metadata": {
    "colab": {
      "provenance": [],
      "include_colab_link": true
    },
    "kernelspec": {
      "name": "python3",
      "display_name": "Python 3"
    },
    "language_info": {
      "name": "python"
    }
  },
  "cells": [
    {
      "cell_type": "markdown",
      "metadata": {
        "id": "view-in-github",
        "colab_type": "text"
      },
      "source": [
        "<a href=\"https://colab.research.google.com/github/sreejairagavarapu/Research/blob/code-as-of-3%2F13%2F2024/Ridge_Regression.ipynb\" target=\"_parent\"><img src=\"https://colab.research.google.com/assets/colab-badge.svg\" alt=\"Open In Colab\"/></a>"
      ]
    },
    {
      "cell_type": "code",
      "source": [
        "import pandas as pd\n",
        "import numpy as np\n",
        "from sklearn.model_selection import train_test_split\n",
        "\n",
        "data = pd.read_csv('/content/PCAComponentData (1).csv')\n",
        "data = data.fillna(data.mean())\n",
        "\n",
        "\n",
        "train, test = train_test_split(data, test_size = 0.3, random_state = 1)\n",
        "\n",
        "predictors = ['Principal Component 1', 'Principal Component 2', 'Principal Component 3', 'Principal Component 4', 'Principal Component 5', 'Principal Component 6', 'Principal Component 7', 'Principal Component 8', 'Principal Component 9', 'Principal Component 10', 'Principal Component 11', 'Principal Component 12', 'Principal Component 13', 'Principal Component 14', 'Principal Component 15']\n",
        "target = \"Dengue\"\n",
        "\n",
        "X = train[predictors].copy()\n",
        "y = train[[target]].copy()\n",
        "\n",
        "x_mean = X.mean()\n",
        "x_std = X.std()\n",
        "X = (X - x_mean) / x_std\n",
        "\n",
        "X[\"intercept\"] = 1\n",
        "X = X[[\"intercept\"] + predictors]\n",
        "\n",
        "alpha = 34\n",
        "I = np.identity(X.shape[1])\n",
        "I[0][0] = 0\n",
        "penalty = alpha * I\n",
        "\n",
        "B = np.linalg.inv(X.T @ X + penalty) @ X.T @ y\n",
        "B.index = ['intercept',  'Principal Component 1', 'Principal Component 2', 'Principal Component 3', 'Principal Component 4', 'Principal Component 5', 'Principal Component 6', 'Principal Component 7', 'Principal Component 8', 'Principal Component 9', 'Principal Component 10', 'Principal Component 11', 'Principal Component 12', 'Principal Component 13', 'Principal Component 14', 'Principal Component 15']\n",
        "\n",
        "B\n",
        "\n",
        "test_X = test[predictors]\n",
        "test_X = (test_X - x_mean) / x_std\n",
        "test_X[\"intercept\"] = 1\n",
        "test_X = test_X[[\"intercept\"] + predictors]\n",
        "\n",
        "predictions = test_X @ B\n",
        "\n",
        "def ridge_fit(train, predictors, target, alpha):\n",
        "  X = train[predictors].copy()\n",
        "  y = train[[target]].copy()\n",
        "\n",
        "  x_mean = X.mean()\n",
        "  x_std = X.std()\n",
        "\n",
        "  X = (X - x_mean) / x_std\n",
        "  X['intercept'] = 1\n",
        "  X = X[['intercept'] + predictors]\n",
        "\n",
        "  penalty = alpha * np.identity(X.shape[1])\n",
        "  penalty[0][0] = 0\n",
        "\n",
        "  B = np.linalg.inv(X.T @ X + penalty) @ X.T @ y\n",
        "  B.index = ['intercept', 'Principal Component 1', 'Principal Component 2', 'Principal Component 3', 'Principal Component 4', 'Principal Component 5', 'Principal Component 6', 'Principal Component 7', 'Principal Component 8', 'Principal Component 9', 'Principal Component 10', 'Principal Component 11', 'Principal Component 12', 'Principal Component 13', 'Principal Component 14', 'Principal Component 15']\n",
        "  return B, x_mean, x_std\n",
        "\n",
        "def ridge_predict(test, predictors, x_mean, x_std, B):\n",
        "  test_X = test[predictors]\n",
        "  test_X = (test_X - x_mean) / x_std\n",
        "  test_X[\"intercept\"] = 1\n",
        "  test_X = test_X[[\"intercept\"] + predictors]\n",
        "\n",
        "  predictions = test_X @ B\n",
        "  return predictions\n",
        "\n",
        "from sklearn.metrics import mean_absolute_error\n",
        "\n",
        "errors = []\n",
        "alphas = [0, 0.01, 0.1, 10]\n",
        "\n",
        "for alpha in alphas:\n",
        "  B, x_mean, x_std = ridge_fit(train, predictors, target, alpha)\n",
        "  predictions = ridge_predict(test, predictors, x_mean, x_std, B)\n",
        "  #print(\"Test Target\", test[target])\n",
        "  #print(\"Predictions\", predictions)\n",
        "  errors.append(mean_absolute_error(test[target], predictions))\n",
        "errors\n"
      ],
      "metadata": {
        "colab": {
          "base_uri": "https://localhost:8080/"
        },
        "id": "9E9Q2tlWeun1",
        "outputId": "92a6ddbe-46eb-4ae1-e254-c9f85ff7dcab"
      },
      "execution_count": 30,
      "outputs": [
        {
          "output_type": "stream",
          "name": "stderr",
          "text": [
            "<ipython-input-30-4a9674cae59b>:6: FutureWarning: The default value of numeric_only in DataFrame.mean is deprecated. In a future version, it will default to False. In addition, specifying 'numeric_only=None' is deprecated. Select only valid columns or specify the value of numeric_only to silence this warning.\n",
            "  data = data.fillna(data.mean())\n"
          ]
        },
        {
          "output_type": "execute_result",
          "data": {
            "text/plain": [
              "[1.7657373076771264e-06,\n",
              " 0.6556973696136575,\n",
              " 6.546428151879013,\n",
              " 558.9421014258826]"
            ]
          },
          "metadata": {},
          "execution_count": 30
        }
      ]
    }
  ]
}