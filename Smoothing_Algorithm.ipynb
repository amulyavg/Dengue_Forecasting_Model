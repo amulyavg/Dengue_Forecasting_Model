{
  "nbformat": 4,
  "nbformat_minor": 0,
  "metadata": {
    "colab": {
      "provenance": []
    },
    "kernelspec": {
      "name": "python3",
      "display_name": "Python 3"
    },
    "language_info": {
      "name": "python"
    }
  },
  "cells": [
    {
      "cell_type": "code",
      "execution_count": 51,
      "metadata": {
        "colab": {
          "base_uri": "https://localhost:8080/"
        },
        "id": "MMMNIfkpAo2E",
        "outputId": "fb3b1595-7dac-4fa7-b213-1d38440d8baf"
      },
      "outputs": [
        {
          "output_type": "stream",
          "name": "stdout",
          "text": [
            "[0.46923077 0.47115385 0.47307692 0.475      0.47692308 0.47884615\n",
            " 0.48076923 0.48269231 0.48461539 0.48653846 0.48846154 0.49038462\n",
            " 0.49230769 0.49423077 0.37884615 0.19807692 0.14038461]\n",
            "1/1 [==============================] - 0s 61ms/step\n",
            "[[0.37831435]\n",
            " [0.37799025]\n",
            " [0.37766623]\n",
            " [0.37734237]\n",
            " [0.37701863]\n",
            " [0.37669498]\n",
            " [0.37637144]\n",
            " [0.37604803]\n",
            " [0.37572467]\n",
            " [0.37540147]\n",
            " [0.3750784 ]\n",
            " [0.37475538]\n",
            " [0.3744325 ]\n",
            " [0.37410975]\n",
            " [0.3936646 ]\n",
            " [0.4251318 ]\n",
            " [0.4357154 ]]\n"
          ]
        }
      ],
      "source": [
        "import tensorflow as tf\n",
        "import pandas as pd\n",
        "import matplotlib.pyplot as plt\n",
        "\n",
        "\n",
        "from tensorflow import keras\n",
        "from keras import layers\n",
        "\n",
        "#CHANGE THIS ONLY\n",
        "#Update normalized.csv and predict.csv with the same file names\n",
        "#don't use time as input data\n",
        "column_names = [\"Time\", \"Cases\"]\n",
        "\n",
        "\n",
        "def plot_loss(history):\n",
        "  plt.plot(history.history['loss'], label='loss')\n",
        "  plt.plot(history.history['val_loss'], label='val_loss')\n",
        "  plt.ylim([0, 1])\n",
        "  plt.xlabel('Epoch')\n",
        "  plt.ylabel('Error [MPG]')\n",
        "  plt.legend()\n",
        "  plt.grid(True)\n",
        "\n",
        "time = pd.read_csv(\"/content/normalized.csv\", names=column_names, engine=\"python\")\n",
        "cases = time.pop(\"Cases\")\n",
        "\n",
        "num_variables = len(column_names) - 1\n",
        "\n",
        "model = keras.Sequential([\n",
        "    layers.Dense(64, activation='relu', input_shape=[num_variables,]),\n",
        "    layers.Dense(64, activation='relu'),\n",
        "    layers.Dense(1, activation='sigmoid')\n",
        "])\n",
        "\n",
        "model.compile(loss='mean_squared_error',\n",
        "              optimizer=tf.keras.optimizers.Adam(0.00001))\n",
        "\n",
        "history = model.fit(\n",
        "    time,\n",
        "    cases,\n",
        "    validation_split=0.2,\n",
        "    verbose=0, epochs=100)\n",
        "\n",
        "data = pd.read_csv(\"/content/predict.csv\", names=column_names[:-1], engine=\"python\")\n",
        "\n",
        "data = data.values\n",
        "print(data)\n",
        "print(model.predict(data))\n",
        "\n",
        "\n",
        "\n"
      ]
    }
  ]
}